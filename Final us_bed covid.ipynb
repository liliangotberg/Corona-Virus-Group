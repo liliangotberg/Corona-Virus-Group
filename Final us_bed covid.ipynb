{
 "cells": [
  {
   "cell_type": "code",
   "execution_count": 1,
   "metadata": {},
   "outputs": [],
   "source": [
    "# Dependencies/ Libraries/ Packages\n",
    "# Pandas is a object type dataframe package \n",
    "import pandas as pd\n",
    "import os\n",
    "import numpy as np\n",
    "import sqlalchemy as sa\n",
    "from sqlalchemy import create_engine"
   ]
  },
  {
   "cell_type": "code",
   "execution_count": 2,
   "metadata": {},
   "outputs": [
    {
     "data": {
      "text/html": [
       "<div>\n",
       "<style scoped>\n",
       "    .dataframe tbody tr th:only-of-type {\n",
       "        vertical-align: middle;\n",
       "    }\n",
       "\n",
       "    .dataframe tbody tr th {\n",
       "        vertical-align: top;\n",
       "    }\n",
       "\n",
       "    .dataframe thead th {\n",
       "        text-align: right;\n",
       "    }\n",
       "</style>\n",
       "<table border=\"1\" class=\"dataframe\">\n",
       "  <thead>\n",
       "    <tr style=\"text-align: right;\">\n",
       "      <th></th>\n",
       "      <th>country</th>\n",
       "      <th>state</th>\n",
       "      <th>county</th>\n",
       "      <th>lat</th>\n",
       "      <th>lng</th>\n",
       "      <th>type</th>\n",
       "      <th>measure</th>\n",
       "      <th>beds</th>\n",
       "      <th>population</th>\n",
       "      <th>year</th>\n",
       "      <th>source</th>\n",
       "      <th>source_url</th>\n",
       "    </tr>\n",
       "  </thead>\n",
       "  <tbody>\n",
       "    <tr>\n",
       "      <th>0</th>\n",
       "      <td>US</td>\n",
       "      <td>AK</td>\n",
       "      <td>aleutians east</td>\n",
       "      <td>63.588753</td>\n",
       "      <td>-154.493062</td>\n",
       "      <td>ICU</td>\n",
       "      <td>1000HAB</td>\n",
       "      <td>0.000000</td>\n",
       "      <td>3338</td>\n",
       "      <td>2019</td>\n",
       "      <td>khn</td>\n",
       "      <td>https://khn.org/news/as-coronavirus-spreads-wi...</td>\n",
       "    </tr>\n",
       "    <tr>\n",
       "      <th>1</th>\n",
       "      <td>US</td>\n",
       "      <td>AK</td>\n",
       "      <td>aleutians west</td>\n",
       "      <td>63.588753</td>\n",
       "      <td>-154.493062</td>\n",
       "      <td>ICU</td>\n",
       "      <td>1000HAB</td>\n",
       "      <td>0.000000</td>\n",
       "      <td>5784</td>\n",
       "      <td>2019</td>\n",
       "      <td>khn</td>\n",
       "      <td>https://khn.org/news/as-coronavirus-spreads-wi...</td>\n",
       "    </tr>\n",
       "    <tr>\n",
       "      <th>2</th>\n",
       "      <td>US</td>\n",
       "      <td>AK</td>\n",
       "      <td>anchorage</td>\n",
       "      <td>63.588753</td>\n",
       "      <td>-154.493062</td>\n",
       "      <td>ACUTE</td>\n",
       "      <td>1000HAB</td>\n",
       "      <td>2.182916</td>\n",
       "      <td>298225</td>\n",
       "      <td>2018</td>\n",
       "      <td>arcgis</td>\n",
       "      <td>https://services1.arcgis.com/Hp6G80Pky0om7QvQ/...</td>\n",
       "    </tr>\n",
       "    <tr>\n",
       "      <th>3</th>\n",
       "      <td>US</td>\n",
       "      <td>AK</td>\n",
       "      <td>anchorage</td>\n",
       "      <td>63.588753</td>\n",
       "      <td>-154.493062</td>\n",
       "      <td>ICU</td>\n",
       "      <td>1000HAB</td>\n",
       "      <td>0.244782</td>\n",
       "      <td>298225</td>\n",
       "      <td>2019</td>\n",
       "      <td>khn</td>\n",
       "      <td>https://khn.org/news/as-coronavirus-spreads-wi...</td>\n",
       "    </tr>\n",
       "    <tr>\n",
       "      <th>4</th>\n",
       "      <td>US</td>\n",
       "      <td>AK</td>\n",
       "      <td>anchorage</td>\n",
       "      <td>63.588753</td>\n",
       "      <td>-154.493062</td>\n",
       "      <td>OTHER</td>\n",
       "      <td>1000HAB</td>\n",
       "      <td>0.191131</td>\n",
       "      <td>298225</td>\n",
       "      <td>2019</td>\n",
       "      <td>arcgis</td>\n",
       "      <td>https://services1.arcgis.com/Hp6G80Pky0om7QvQ/...</td>\n",
       "    </tr>\n",
       "    <tr>\n",
       "      <th>...</th>\n",
       "      <td>...</td>\n",
       "      <td>...</td>\n",
       "      <td>...</td>\n",
       "      <td>...</td>\n",
       "      <td>...</td>\n",
       "      <td>...</td>\n",
       "      <td>...</td>\n",
       "      <td>...</td>\n",
       "      <td>...</td>\n",
       "      <td>...</td>\n",
       "      <td>...</td>\n",
       "      <td>...</td>\n",
       "    </tr>\n",
       "    <tr>\n",
       "      <th>5708</th>\n",
       "      <td>US</td>\n",
       "      <td>WY</td>\n",
       "      <td>uinta</td>\n",
       "      <td>43.075968</td>\n",
       "      <td>-107.290284</td>\n",
       "      <td>ACUTE</td>\n",
       "      <td>1000HAB</td>\n",
       "      <td>2.023316</td>\n",
       "      <td>20758</td>\n",
       "      <td>2018</td>\n",
       "      <td>arcgis</td>\n",
       "      <td>https://services1.arcgis.com/Hp6G80Pky0om7QvQ/...</td>\n",
       "    </tr>\n",
       "    <tr>\n",
       "      <th>5709</th>\n",
       "      <td>US</td>\n",
       "      <td>WY</td>\n",
       "      <td>uinta</td>\n",
       "      <td>43.075968</td>\n",
       "      <td>-107.290284</td>\n",
       "      <td>ICU</td>\n",
       "      <td>1000HAB</td>\n",
       "      <td>0.289045</td>\n",
       "      <td>20758</td>\n",
       "      <td>2019</td>\n",
       "      <td>khn</td>\n",
       "      <td>https://khn.org/news/as-coronavirus-spreads-wi...</td>\n",
       "    </tr>\n",
       "    <tr>\n",
       "      <th>5710</th>\n",
       "      <td>US</td>\n",
       "      <td>WY</td>\n",
       "      <td>uinta</td>\n",
       "      <td>43.075968</td>\n",
       "      <td>-107.290284</td>\n",
       "      <td>PSYCHIATRIC</td>\n",
       "      <td>1000HAB</td>\n",
       "      <td>8.815878</td>\n",
       "      <td>20758</td>\n",
       "      <td>2018</td>\n",
       "      <td>arcgis</td>\n",
       "      <td>https://services1.arcgis.com/Hp6G80Pky0om7QvQ/...</td>\n",
       "    </tr>\n",
       "    <tr>\n",
       "      <th>5711</th>\n",
       "      <td>US</td>\n",
       "      <td>WY</td>\n",
       "      <td>washakie</td>\n",
       "      <td>43.075968</td>\n",
       "      <td>-107.290284</td>\n",
       "      <td>ICU</td>\n",
       "      <td>1000HAB</td>\n",
       "      <td>2.181025</td>\n",
       "      <td>8253</td>\n",
       "      <td>2018</td>\n",
       "      <td>arcgis</td>\n",
       "      <td>https://services1.arcgis.com/Hp6G80Pky0om7QvQ/...</td>\n",
       "    </tr>\n",
       "    <tr>\n",
       "      <th>5712</th>\n",
       "      <td>US</td>\n",
       "      <td>WY</td>\n",
       "      <td>weston</td>\n",
       "      <td>43.075968</td>\n",
       "      <td>-107.290284</td>\n",
       "      <td>ICU</td>\n",
       "      <td>1000HAB</td>\n",
       "      <td>1.686104</td>\n",
       "      <td>7117</td>\n",
       "      <td>2018</td>\n",
       "      <td>arcgis</td>\n",
       "      <td>https://services1.arcgis.com/Hp6G80Pky0om7QvQ/...</td>\n",
       "    </tr>\n",
       "  </tbody>\n",
       "</table>\n",
       "<p>5713 rows × 12 columns</p>\n",
       "</div>"
      ],
      "text/plain": [
       "     country state          county        lat         lng         type  \\\n",
       "0         US    AK  aleutians east  63.588753 -154.493062          ICU   \n",
       "1         US    AK  aleutians west  63.588753 -154.493062          ICU   \n",
       "2         US    AK       anchorage  63.588753 -154.493062        ACUTE   \n",
       "3         US    AK       anchorage  63.588753 -154.493062          ICU   \n",
       "4         US    AK       anchorage  63.588753 -154.493062        OTHER   \n",
       "...      ...   ...             ...        ...         ...          ...   \n",
       "5708      US    WY           uinta  43.075968 -107.290284        ACUTE   \n",
       "5709      US    WY           uinta  43.075968 -107.290284          ICU   \n",
       "5710      US    WY           uinta  43.075968 -107.290284  PSYCHIATRIC   \n",
       "5711      US    WY        washakie  43.075968 -107.290284          ICU   \n",
       "5712      US    WY          weston  43.075968 -107.290284          ICU   \n",
       "\n",
       "      measure      beds  population  year  source  \\\n",
       "0     1000HAB  0.000000        3338  2019     khn   \n",
       "1     1000HAB  0.000000        5784  2019     khn   \n",
       "2     1000HAB  2.182916      298225  2018  arcgis   \n",
       "3     1000HAB  0.244782      298225  2019     khn   \n",
       "4     1000HAB  0.191131      298225  2019  arcgis   \n",
       "...       ...       ...         ...   ...     ...   \n",
       "5708  1000HAB  2.023316       20758  2018  arcgis   \n",
       "5709  1000HAB  0.289045       20758  2019     khn   \n",
       "5710  1000HAB  8.815878       20758  2018  arcgis   \n",
       "5711  1000HAB  2.181025        8253  2018  arcgis   \n",
       "5712  1000HAB  1.686104        7117  2018  arcgis   \n",
       "\n",
       "                                             source_url  \n",
       "0     https://khn.org/news/as-coronavirus-spreads-wi...  \n",
       "1     https://khn.org/news/as-coronavirus-spreads-wi...  \n",
       "2     https://services1.arcgis.com/Hp6G80Pky0om7QvQ/...  \n",
       "3     https://khn.org/news/as-coronavirus-spreads-wi...  \n",
       "4     https://services1.arcgis.com/Hp6G80Pky0om7QvQ/...  \n",
       "...                                                 ...  \n",
       "5708  https://services1.arcgis.com/Hp6G80Pky0om7QvQ/...  \n",
       "5709  https://khn.org/news/as-coronavirus-spreads-wi...  \n",
       "5710  https://services1.arcgis.com/Hp6G80Pky0om7QvQ/...  \n",
       "5711  https://services1.arcgis.com/Hp6G80Pky0om7QvQ/...  \n",
       "5712  https://services1.arcgis.com/Hp6G80Pky0om7QvQ/...  \n",
       "\n",
       "[5713 rows x 12 columns]"
      ]
     },
     "execution_count": 2,
     "metadata": {},
     "output_type": "execute_result"
    }
   ],
   "source": [
    "# Import/ Extract a datafile, dataset\n",
    "# pd.read_csv(\"name of file\")\n",
    "us_beds_df = pd.read_csv(\"hospital_beds_USA_v1.csv\")\n",
    "us_beds_df"
   ]
  },
  {
   "cell_type": "code",
   "execution_count": 3,
   "metadata": {},
   "outputs": [
    {
     "data": {
      "text/plain": [
       "['us_beds']"
      ]
     },
     "execution_count": 3,
     "metadata": {},
     "output_type": "execute_result"
    }
   ],
   "source": [
    "rds_connection_string = \"postgres:postgres@localhost:5433/covid_db\"\n",
    "engine = create_engine(f'postgresql://{rds_connection_string}')\n",
    "engine.table_names()\n"
   ]
  },
  {
   "cell_type": "code",
   "execution_count": 5,
   "metadata": {},
   "outputs": [
    {
     "data": {
      "text/plain": [
       "['us_beds']"
      ]
     },
     "execution_count": 5,
     "metadata": {},
     "output_type": "execute_result"
    }
   ],
   "source": [
    "engine.table_names()"
   ]
  },
  {
   "cell_type": "code",
   "execution_count": 11,
   "metadata": {},
   "outputs": [
    {
     "data": {
      "text/plain": [
       "country        object\n",
       "state          object\n",
       "county         object\n",
       "lat           float64\n",
       "lng           float64\n",
       "type           object\n",
       "measure        object\n",
       "beds          float64\n",
       "population      int64\n",
       "year            int64\n",
       "source         object\n",
       "source_url     object\n",
       "dtype: object"
      ]
     },
     "execution_count": 11,
     "metadata": {},
     "output_type": "execute_result"
    }
   ],
   "source": [
    "us_beds_df.dtypes"
   ]
  },
  {
   "cell_type": "code",
   "execution_count": 14,
   "metadata": {},
   "outputs": [],
   "source": [
    "us_beds_df.to_sql(name= 'us_beds', con=engine, if_exists='append', index=False)"
   ]
  },
  {
   "cell_type": "code",
   "execution_count": null,
   "metadata": {},
   "outputs": [],
   "source": []
  },
  {
   "cell_type": "code",
   "execution_count": null,
   "metadata": {},
   "outputs": [],
   "source": []
  },
  {
   "cell_type": "code",
   "execution_count": null,
   "metadata": {},
   "outputs": [],
   "source": []
  },
  {
   "cell_type": "code",
   "execution_count": null,
   "metadata": {},
   "outputs": [],
   "source": []
  },
  {
   "cell_type": "code",
   "execution_count": null,
   "metadata": {},
   "outputs": [],
   "source": []
  },
  {
   "cell_type": "code",
   "execution_count": null,
   "metadata": {},
   "outputs": [],
   "source": []
  },
  {
   "cell_type": "code",
   "execution_count": null,
   "metadata": {},
   "outputs": [],
   "source": []
  },
  {
   "cell_type": "code",
   "execution_count": null,
   "metadata": {},
   "outputs": [],
   "source": []
  },
  {
   "cell_type": "code",
   "execution_count": null,
   "metadata": {},
   "outputs": [],
   "source": []
  },
  {
   "cell_type": "code",
   "execution_count": null,
   "metadata": {},
   "outputs": [],
   "source": []
  }
 ],
 "metadata": {
  "kernelspec": {
   "display_name": "Python 3",
   "language": "python",
   "name": "python3"
  },
  "language_info": {
   "codemirror_mode": {
    "name": "ipython",
    "version": 3
   },
   "file_extension": ".py",
   "mimetype": "text/x-python",
   "name": "python",
   "nbconvert_exporter": "python",
   "pygments_lexer": "ipython3",
   "version": "3.7.6"
  }
 },
 "nbformat": 4,
 "nbformat_minor": 4
}
